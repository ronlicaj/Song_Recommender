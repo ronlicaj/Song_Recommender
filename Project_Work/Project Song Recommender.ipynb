{
 "cells": [
  {
   "cell_type": "markdown",
   "id": "a3c0ab89",
   "metadata": {},
   "source": [
    "### 1) Importing the libaries and data frames"
   ]
  },
  {
   "cell_type": "code",
   "execution_count": 1,
   "id": "a172dc09",
   "metadata": {},
   "outputs": [],
   "source": [
    "import json\n",
    "import pandas as pd\n",
    "import spotipy\n",
    "import config\n",
    "from spotipy.oauth2 import SpotifyClientCredentials\n",
    "from sklearn.preprocessing import StandardScaler\n",
    "from sklearn.cluster import KMeans\n",
    "import random\n",
    "import time\n",
    "import sys"
   ]
  },
  {
   "cell_type": "code",
   "execution_count": 8,
   "id": "f15f4c99",
   "metadata": {},
   "outputs": [],
   "source": [
    "hot_tracks = pd.read_pickle(\"./data/dataframes/hot_tracks\")\n",
    "playlist_df = pd.read_pickle(\"./data/dataframes/playlist_df\")\n",
    "features_scaled = pd.read_pickle(\"./data/dataframes/features_scaled_df\")\n",
    "features_playlist = pd.read_pickle(\"./data/dataframes/features_playlist\")"
   ]
  },
  {
   "cell_type": "markdown",
   "id": "f556700f",
   "metadata": {},
   "source": [
    "### 2) Authentication to the Spotify API"
   ]
  },
  {
   "cell_type": "code",
   "execution_count": 4,
   "id": "cfb7ad24",
   "metadata": {},
   "outputs": [
    {
     "data": {
      "text/plain": [
       "['__builtins__',\n",
       " '__cached__',\n",
       " '__doc__',\n",
       " '__file__',\n",
       " '__loader__',\n",
       " '__name__',\n",
       " '__package__',\n",
       " '__spec__',\n",
       " 'client_id',\n",
       " 'client_secret']"
      ]
     },
     "execution_count": 4,
     "metadata": {},
     "output_type": "execute_result"
    }
   ],
   "source": [
    "dir(config) # see whether it works"
   ]
  },
  {
   "cell_type": "code",
   "execution_count": 18,
   "id": "ab64d89a",
   "metadata": {},
   "outputs": [],
   "source": [
    "spotify = spotipy.Spotify(auth_manager=SpotifyClientCredentials(client_id= config.client_id,\n",
    "                                                           client_secret= config.client_secret))\n"
   ]
  },
  {
   "cell_type": "markdown",
   "id": "2f4312a7",
   "metadata": {},
   "source": [
    "### 3) Scaling and clustering the songs"
   ]
  },
  {
   "cell_type": "code",
   "execution_count": 10,
   "id": "6a05fe1d",
   "metadata": {},
   "outputs": [],
   "source": [
    "scaler = StandardScaler()\n",
    "features_playlist = playlist_df.iloc[:,4:17]\n",
    "scaler.fit(features_playlist)\n",
    "features_scaled = scaler.transform(features_playlist)\n",
    "features_scaled_df = pd.DataFrame(features_scaled)"
   ]
  },
  {
   "cell_type": "code",
   "execution_count": 11,
   "id": "a93415eb",
   "metadata": {},
   "outputs": [],
   "source": [
    "kmeans = KMeans(n_clusters= 8, random_state = 1234)\n",
    "kmeans.fit(features_scaled)\n",
    "clusters = kmeans.predict(features_scaled)\n",
    "playlist_df[\"cluster\"]=clusters"
   ]
  },
  {
   "cell_type": "markdown",
   "id": "daa11040",
   "metadata": {},
   "source": [
    "### 4) Function to extract the unique id of the new song"
   ]
  },
  {
   "cell_type": "code",
   "execution_count": 12,
   "id": "e340b789",
   "metadata": {},
   "outputs": [],
   "source": [
    "def extract_uri(query):\n",
    "    results=spotify.search(q=query, limit=10)\n",
    "    uri=results[\"tracks\"][\"items\"][0][\"uri\"]\n",
    "    song_audio_features = spotify.audio_features(uri)\n",
    "    return song_audio_features"
   ]
  },
  {
   "cell_type": "markdown",
   "id": "6b07cb46",
   "metadata": {},
   "source": [
    "### 5) Song recommender algorithm"
   ]
  },
  {
   "cell_type": "code",
   "execution_count": 22,
   "id": "6bf54ee8",
   "metadata": {},
   "outputs": [
    {
     "name": "stdout",
     "output_type": "stream",
     "text": [
      "Enter a song to get a great recommendation: hello\n",
      "This song is NOT HOT, wait and get a recommandation based on the audio features of your song...\n",
      "Here is your new HOT song \u001b[1m Chicken Wolf \u001b[0;0m\n",
      "Now you can listen to your new HOT song here: http://open.spotify.com/track/5655OLuz8B44yazj1aOzr3\n",
      "Thanks for using the music recommender.\n"
     ]
    }
   ],
   "source": [
    "hot_tracks[\"Title\"] = hot_tracks[\"Title\"].apply(lambda x: x.lower())\n",
    "\n",
    "for song in hot_tracks[[\"Title\"]].iterrows():\n",
    "    user_input = input(\"Enter a song to get a great recommendation: \")\n",
    "    if user_input.lower() in list(hot_tracks[\"Title\"]):\n",
    "        print(\"This song is HOT! You deserve an other HOT song...\")\n",
    "        random_song = random.choice(hot_tracks[\"Title\"]).title()\n",
    "        time.sleep(3)\n",
    "        print(\"Here is your HOT song: \", \"\\033[1m\", random_song, \"\\033[0;0m\")\n",
    "        print(\"Thanks for using the song recommender.\")\n",
    "        break\n",
    "    else:\n",
    "        print(\"This song is NOT HOT, wait and get a recommandation based on the audio features of your song...\")\n",
    "        uri_user_input = extract_uri(user_input)\n",
    "        df_user_input = pd.DataFrame(uri_user_input)\n",
    "        df_user_input.drop(df_user_input.columns[[11,12,13,14,15]], axis = 1, inplace = True)\n",
    "        scaler.fit(df_user_input)\n",
    "        song_scaled = scaler.transform(df_user_input)\n",
    "        song_cluster = kmeans.predict(song_scaled)\n",
    "        input_cluster = song_cluster[0]\n",
    "        match = playlist_df.loc[playlist_df[\"cluster\"] == input_cluster]\n",
    "        title = match.sample()[\"names\"].values[0]\n",
    "        song_uri = playlist_df[playlist_df[\"names\"]==title][\"uri\"].values[0]\n",
    "        song_url = song_uri.strip(\"spotify/.\").replace(\":\", \"/\")\n",
    "        time.sleep(4)\n",
    "\n",
    "        print(\"Here is your new HOT song\", \"\\033[1m\", title.title(), \"\\033[0;0m\")\n",
    "        print(\"Now you can listen to your new HOT song here:\", \"http://open.spotify.com\" + song_url)\n",
    "        time.sleep(2)\n",
    "        print(\"Thanks for using the song recommender.\")\n",
    "        break"
   ]
  },
  {
   "cell_type": "code",
   "execution_count": 23,
   "id": "38e6c750",
   "metadata": {},
   "outputs": [
    {
     "data": {
      "text/html": [
       "<div>\n",
       "<style scoped>\n",
       "    .dataframe tbody tr th:only-of-type {\n",
       "        vertical-align: middle;\n",
       "    }\n",
       "\n",
       "    .dataframe tbody tr th {\n",
       "        vertical-align: top;\n",
       "    }\n",
       "\n",
       "    .dataframe thead th {\n",
       "        text-align: right;\n",
       "    }\n",
       "</style>\n",
       "<table border=\"1\" class=\"dataframe\">\n",
       "  <thead>\n",
       "    <tr style=\"text-align: right;\">\n",
       "      <th></th>\n",
       "      <th>names</th>\n",
       "      <th>uri</th>\n",
       "      <th>artists</th>\n",
       "      <th>popularity</th>\n",
       "      <th>danceability</th>\n",
       "      <th>energy</th>\n",
       "      <th>key</th>\n",
       "      <th>loudness</th>\n",
       "      <th>mode</th>\n",
       "      <th>speechiness</th>\n",
       "      <th>acousticness</th>\n",
       "      <th>instrumentalness</th>\n",
       "      <th>liveness</th>\n",
       "      <th>valence</th>\n",
       "      <th>tempo</th>\n",
       "      <th>duration_ms</th>\n",
       "      <th>time_signature</th>\n",
       "      <th>cluster</th>\n",
       "    </tr>\n",
       "  </thead>\n",
       "  <tbody>\n",
       "    <tr>\n",
       "      <th>6718</th>\n",
       "      <td>Chicken Wolf</td>\n",
       "      <td>spotify:track:5655OLuz8B44yazj1aOzr3</td>\n",
       "      <td>[Steppenwolf]</td>\n",
       "      <td>0</td>\n",
       "      <td>0.588</td>\n",
       "      <td>0.66</td>\n",
       "      <td>7</td>\n",
       "      <td>-13.64</td>\n",
       "      <td>1</td>\n",
       "      <td>0.037</td>\n",
       "      <td>0.106</td>\n",
       "      <td>0.192</td>\n",
       "      <td>0.0784</td>\n",
       "      <td>0.716</td>\n",
       "      <td>103.836</td>\n",
       "      <td>175667</td>\n",
       "      <td>4</td>\n",
       "      <td>1</td>\n",
       "    </tr>\n",
       "  </tbody>\n",
       "</table>\n",
       "</div>"
      ],
      "text/plain": [
       "             names                                   uri        artists  \\\n",
       "6718  Chicken Wolf  spotify:track:5655OLuz8B44yazj1aOzr3  [Steppenwolf]   \n",
       "\n",
       "      popularity  danceability  energy  key  loudness  mode  speechiness  \\\n",
       "6718           0         0.588    0.66    7    -13.64     1        0.037   \n",
       "\n",
       "      acousticness  instrumentalness  liveness  valence    tempo  duration_ms  \\\n",
       "6718         0.106             0.192    0.0784    0.716  103.836       175667   \n",
       "\n",
       "      time_signature  cluster  \n",
       "6718               4        1  "
      ]
     },
     "execution_count": 23,
     "metadata": {},
     "output_type": "execute_result"
    }
   ],
   "source": [
    " # selecting the cluster of the recommended song\n",
    "playlist_df[playlist_df['names'] == \"Chicken Wolf\"]"
   ]
  },
  {
   "cell_type": "code",
   "execution_count": null,
   "id": "e1822d5f",
   "metadata": {},
   "outputs": [],
   "source": []
  }
 ],
 "metadata": {
  "kernelspec": {
   "display_name": "Python 3",
   "language": "python",
   "name": "python3"
  },
  "language_info": {
   "codemirror_mode": {
    "name": "ipython",
    "version": 3
   },
   "file_extension": ".py",
   "mimetype": "text/x-python",
   "name": "python",
   "nbconvert_exporter": "python",
   "pygments_lexer": "ipython3",
   "version": "3.8.8"
  }
 },
 "nbformat": 4,
 "nbformat_minor": 5
}
